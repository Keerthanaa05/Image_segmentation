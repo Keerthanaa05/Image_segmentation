{
 "cells": [
  {
   "cell_type": "markdown",
   "metadata": {},
   "source": [
    "Dilution and erosion:"
   ]
  },
  {
   "cell_type": "code",
   "execution_count": 6,
   "metadata": {},
   "outputs": [],
   "source": [
    "import cv2\n",
    "import numpy as np\n",
    "import matplotlib.pyplot as plt\n",
    "import os"
   ]
  },
  {
   "cell_type": "code",
   "execution_count": 3,
   "metadata": {},
   "outputs": [],
   "source": [
    "# EROSION\n",
    "image = cv2.imread(\"61577image1.jpg\")\n",
    "kernel = np.ones((5, 5), np.uint8)\n",
    "\n",
    "image_erode = cv2.erode(image, kernel, iterations=2)\n",
    "filename = os.path.join('picture', 'image_erode.jpg')\n",
    "cv2.imshow('image_erode', image_erode)\n",
    "cv2.imwrite(filename, image_erode)\n",
    "cv2.waitKey(0)\n",
    "cv2.destroyAllWindows()"
   ]
  },
  {
   "cell_type": "code",
   "execution_count": 8,
   "metadata": {},
   "outputs": [],
   "source": [
    "#DILUTION\n",
    "image = cv2.imread(\"61577image1.jpg\")\n",
    "kernel = np.ones((5, 5), np.uint8)\n",
    "\n",
    "image_dilate = cv2.dilate(image, kernel, iterations=2)\n",
    "\n",
    "filename = os.path.join('picture', 'image_dilute.jpg')\n",
    "cv2.imshow('image_dilute', image_dilate)\n",
    "cv2.imwrite(filename, image_dilate)\n",
    "cv2.waitKey(0)\n",
    "cv2.destroyAllWindows()"
   ]
  },
  {
   "cell_type": "code",
   "execution_count": null,
   "metadata": {},
   "outputs": [],
   "source": [
    "#OPENING\n",
    "\n",
    "kernel = np.ones((3,3), np.uint8)\n",
    "\n",
    "opening = cv2.morphologyEx(image,cv2.MORPH_OPEN,kernel)\n",
    "\n",
    "filename = os.path.join('picture', 'image_opening.jpg')\n",
    "cv2.imwrite(filename,opening)\n",
    "\n",
    "\n",
    "\n",
    "# (OR)\n",
    "\n",
    "image = cv2.imread(\"61577image1.jpg\")\n",
    "kernel = np.ones((5, 5), np.uint8)\n",
    "\n",
    "image_erode = cv2.erode(image, kernel, iterations=2)\n",
    "dilution = cv2.dilate(image_erode,kernel,iterations=2)\n",
    "cv2.imshow(\"ori\",image)\n",
    "cv2.imshow(\"img\",dilution)\n",
    "cv2.waitKey(0)\n",
    "cv2.destroyAllWindows()"
   ]
  },
  {
   "cell_type": "code",
   "execution_count": null,
   "metadata": {},
   "outputs": [],
   "source": [
    "# CLOSING\n",
    "\n",
    "closing = cv2.morphologyEx(image, cv2.MORPH_CLOSE, kernel)\n",
    "filename = 'image_close.jpg'\n",
    "cv2.imwrite(filename,closing)\n",
    "\n",
    "\n",
    "# (OR)\n",
    "\n",
    "image = cv2.imread(\"61577image1.jpg\")\n",
    "kernel = np.ones((5, 5), np.uint8)\n",
    "\n",
    "dilution = cv2.dilate(image,kernel,iterations=2)\n",
    "image_erode = cv2.erode(dilution, kernel, iterations=2)\n",
    "cv2.imshow(\"ori\",image)\n",
    "cv2.imshow(\"img_e\",image_erode)\n",
    "cv2.waitKey(0)\n",
    "cv2.destroyAllWindows()"
   ]
  },
  {
   "cell_type": "code",
   "execution_count": 9,
   "metadata": {},
   "outputs": [],
   "source": [
    "#TOP HAT (OR)  WHITE HAT\n",
    "image = cv2.imread(\"top_hat_img.png\")\n",
    "\n",
    "filterSize =(3, 3) \n",
    "TOPHAT = cv2.morphologyEx(image, cv2.MORPH_TOPHAT, kernel)\n",
    "cv2.imshow('filename',TOPHAT)\n",
    "cv2.waitKey(0)\n",
    "cv2.destroyAllWindows()"
   ]
  },
  {
   "cell_type": "code",
   "execution_count": null,
   "metadata": {},
   "outputs": [],
   "source": [
    "# BLACKHAT\n",
    "\n",
    "image = cv2.imread(\"black_hat_img.jpg\")\n",
    "filterSize =(3, 3) \n",
    "Black_hat = cv2.morphologyEx(image, cv2.MORPH_BLACKHAT, kernel)\n",
    "cv2.imshow('filename',Black_hat)\n",
    "cv2.waitKey(0)\n",
    "cv2.destroyAllWindows()"
   ]
  },
  {
   "cell_type": "code",
   "execution_count": 36,
   "metadata": {},
   "outputs": [],
   "source": []
  }
 ],
 "metadata": {
  "kernelspec": {
   "display_name": "Python 3",
   "language": "python",
   "name": "python3"
  },
  "language_info": {
   "codemirror_mode": {
    "name": "ipython",
    "version": 3
   },
   "file_extension": ".py",
   "mimetype": "text/x-python",
   "name": "python",
   "nbconvert_exporter": "python",
   "pygments_lexer": "ipython3",
   "version": "3.10.12"
  }
 },
 "nbformat": 4,
 "nbformat_minor": 2
}
